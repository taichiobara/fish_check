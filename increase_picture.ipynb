{
 "cells": [
  {
   "cell_type": "code",
   "execution_count": 78,
   "metadata": {},
   "outputs": [],
   "source": [
    "#画像の水増し\n",
    "\n",
    "import os\n",
    "import glob\n",
    "import numpy as np\n",
    "from keras.preprocessing.image import ImageDataGenerator,load_img, img_to_array, array_to_img\n",
    "\n",
    "# 画像を拡張する関数\n",
    "def draw_images(generator, x, dir_name, index):\n",
    "    save_name = 'extened-' + str(index)\n",
    "    g = generator.flow(x, batch_size=1, save_to_dir=output_dir,\n",
    "                       save_prefix=save_name, save_format='jpeg')\n",
    "\n",
    "    # 1つの入力画像から何枚拡張するかを指定（今回は10枚）\n",
    "    for i in range(10):\n",
    "        bach = g.next()\n",
    "\n",
    "# 出力先ディレクトリの設定\n",
    "output_dir = \"ペレズテトラ\"\n",
    "\n",
    "if not(os.path.exists(output_dir)):\n",
    "    os.mkdir(output_dir)\n",
    "\n",
    "# 拡張する画像の読み込み\n",
    "images = glob.glob(os.path.join(\"ペレズテトラ\", \"*.jpg\"))\n",
    "\n",
    "# ImageDataGeneratorを定義\n",
    "datagen = ImageDataGenerator(rotation_range=20,\n",
    "                            width_shift_range=0,\n",
    "                            shear_range=0,\n",
    "                            height_shift_range=0,\n",
    "                            zoom_range=0,\n",
    "                            horizontal_flip=True,\n",
    "                            fill_mode=\"nearest\",\n",
    "                            channel_shift_range=40)\n",
    "\n",
    "# 読み込んだ画像を順に拡張\n",
    "for i in range(len(images)):\n",
    "    img = load_img(images[i])\n",
    "    img = img.resize((350,300 ))\n",
    "    x = img_to_array(img)\n",
    "    x = np.expand_dims(x, axis=0)\n",
    "    draw_images(datagen, x, output_dir, i)"
   ]
  },
  {
   "cell_type": "code",
   "execution_count": null,
   "metadata": {},
   "outputs": [],
   "source": []
  }
 ],
 "metadata": {
  "kernelspec": {
   "display_name": "Python 3",
   "language": "python",
   "name": "python3"
  },
  "language_info": {
   "codemirror_mode": {
    "name": "ipython",
    "version": 3
   },
   "file_extension": ".py",
   "mimetype": "text/x-python",
   "name": "python",
   "nbconvert_exporter": "python",
   "pygments_lexer": "ipython3",
   "version": "3.6.4"
  }
 },
 "nbformat": 4,
 "nbformat_minor": 2
}
